{
 "cells": [
  {
   "cell_type": "code",
   "execution_count": 1,
   "id": "f5209cd0",
   "metadata": {},
   "outputs": [],
   "source": [
    "import pandas as pd\n",
    "import numpy as np"
   ]
  },
  {
   "cell_type": "code",
   "execution_count": 2,
   "id": "ded812bd",
   "metadata": {},
   "outputs": [],
   "source": [
    "df = pd.read_excel(\"LDA_EPT_data.xlsx\")"
   ]
  },
  {
   "cell_type": "markdown",
   "id": "bb3b6bb4",
   "metadata": {},
   "source": [
    "## S1"
   ]
  },
  {
   "cell_type": "code",
   "execution_count": 3,
   "id": "d68b2179",
   "metadata": {},
   "outputs": [],
   "source": [
    "df['MP1_S1_Value'] = (\n",
    "    df['MP1_S1_Value']\n",
    "    .str.replace(\"*.\", \"\", regex=False)\n",
    "    .str.replace(\"*\", \"\", regex=False)\n",
    "    .str.replace(\",\", \".\", regex=False)\n",
    "    .str.strip()\n",
    ")\n",
    "\n",
    "df['MP1_S1_Value'] = df['MP1_S1_Value'].replace(\".\", np.nan)\n",
    "\n",
    "df['MP1_S1_Value'] = pd.to_numeric(df['MP1_S1_Value'], errors='coerce')\n"
   ]
  },
  {
   "cell_type": "code",
   "execution_count": 4,
   "id": "14beed9e",
   "metadata": {},
   "outputs": [
    {
     "data": {
      "text/plain": [
       "0       0.420\n",
       "1       0.480\n",
       "2       0.520\n",
       "3       0.300\n",
       "4       0.550\n",
       "        ...  \n",
       "1264    0.629\n",
       "1265    0.423\n",
       "1266    1.098\n",
       "1267    0.684\n",
       "1268    0.423\n",
       "Name: MP1_S1_Value, Length: 1269, dtype: float64"
      ]
     },
     "execution_count": 4,
     "metadata": {},
     "output_type": "execute_result"
    }
   ],
   "source": [
    "df['MP1_S1_Value']"
   ]
  },
  {
   "cell_type": "code",
   "execution_count": 5,
   "id": "5967a048",
   "metadata": {},
   "outputs": [],
   "source": [
    "df['MP1_P1_Value'] = (\n",
    "    df['MP1_P1_Value']\n",
    "    .str.replace(\"*.\", \"\", regex=False)\n",
    "    .str.replace(\"*\", \"\", regex=False)\n",
    "    .str.replace(\",\", \".\", regex=False)\n",
    "    .str.strip()\n",
    ")\n",
    "\n",
    "df['MP1_P1_Value'] = df['MP1_P1_Value'].replace(\".\", np.nan)\n",
    "\n",
    "df['MP1_P1_Value'] = pd.to_numeric(df['MP1_P1_Value'], errors='coerce')\n"
   ]
  },
  {
   "cell_type": "code",
   "execution_count": 6,
   "id": "36886444",
   "metadata": {},
   "outputs": [
    {
     "data": {
      "text/plain": [
       "0       0.300\n",
       "1       0.301\n",
       "2       0.362\n",
       "3       0.300\n",
       "4       0.231\n",
       "        ...  \n",
       "1264    0.687\n",
       "1265    0.624\n",
       "1266    0.426\n",
       "1267    0.700\n",
       "1268    0.624\n",
       "Name: MP1_P1_Value, Length: 1269, dtype: float64"
      ]
     },
     "execution_count": 6,
     "metadata": {},
     "output_type": "execute_result"
    }
   ],
   "source": [
    "df['MP1_P1_Value']"
   ]
  },
  {
   "cell_type": "markdown",
   "id": "fc37de35",
   "metadata": {},
   "source": [
    "## S2"
   ]
  },
  {
   "cell_type": "code",
   "execution_count": 7,
   "id": "bbb63af5",
   "metadata": {},
   "outputs": [],
   "source": [
    "df['MP2_S2_Value'] = (\n",
    "    df['MP2_S2_Value']\n",
    "    .str.replace(\"*.\", \"\", regex=False)\n",
    "    .str.replace(\"*\", \"\", regex=False)\n",
    "    .str.replace(\",\", \".\", regex=False)\n",
    "    .str.strip()\n",
    ")\n",
    "\n",
    "df['MP2_S2_Value'] = df['MP2_S2_Value'].replace(\".\", np.nan)\n",
    "\n",
    "df['MP2_S2_Value'] = pd.to_numeric(df['MP2_S2_Value'], errors='coerce')\n"
   ]
  },
  {
   "cell_type": "code",
   "execution_count": 8,
   "id": "c00692eb",
   "metadata": {},
   "outputs": [
    {
     "data": {
      "text/plain": [
       "0       0.840\n",
       "1       0.950\n",
       "2       1.030\n",
       "3       0.600\n",
       "4       1.100\n",
       "        ...  \n",
       "1264    1.258\n",
       "1265    0.846\n",
       "1266    2.097\n",
       "1267    1.370\n",
       "1268    0.846\n",
       "Name: MP2_S2_Value, Length: 1269, dtype: float64"
      ]
     },
     "execution_count": 8,
     "metadata": {},
     "output_type": "execute_result"
    }
   ],
   "source": [
    "df['MP2_S2_Value']"
   ]
  },
  {
   "cell_type": "code",
   "execution_count": 9,
   "id": "09a9123b",
   "metadata": {},
   "outputs": [],
   "source": [
    "df['MP2_S2_Setting_Tolerance'] = df['MP2_S2_Setting_Tolerance'].str.replace(\"*\",\"\",regex=False).str.replace(\"*.\",\"\",regex=False).str.replace(\"+-\",\"\",regex=False).str.replace(\",\",\".\",regex=False).str.replace(\".\",\"\",regex=False).str.strip()\n",
    "df['MP2_S2_Setting_Tolerance'] = pd.to_numeric(df['MP2_S2_Setting_Tolerance'])\n",
    "df['MP2_S2_Setting_Tolerance'] = df['MP2_S2_Setting_Tolerance'].replace(4.0,0.04)"
   ]
  },
  {
   "cell_type": "code",
   "execution_count": 10,
   "id": "fe5c5d3f",
   "metadata": {},
   "outputs": [
    {
     "data": {
      "text/plain": [
       "0       0.04\n",
       "1       0.04\n",
       "2       0.04\n",
       "3       0.04\n",
       "4       0.04\n",
       "        ... \n",
       "1264    0.04\n",
       "1265    0.04\n",
       "1266    0.04\n",
       "1267    0.04\n",
       "1268    0.04\n",
       "Name: MP2_S2_Setting_Tolerance, Length: 1269, dtype: float64"
      ]
     },
     "execution_count": 10,
     "metadata": {},
     "output_type": "execute_result"
    }
   ],
   "source": [
    "df['MP2_S2_Setting_Tolerance'] "
   ]
  },
  {
   "cell_type": "code",
   "execution_count": 11,
   "id": "9c134815",
   "metadata": {},
   "outputs": [],
   "source": [
    "df['MP2_P2_Value'] = (\n",
    "    df['MP2_P2_Value']\n",
    "    .str.replace(\"*.\", \"\", regex=False)\n",
    "    .str.replace(\"*\", \"\", regex=False)\n",
    "    .str.replace(\",\", \".\", regex=False)\n",
    "    .str.strip()\n",
    ")\n",
    "\n",
    "df['MP2_P2_Value'] = df['MP2_P2_Value'].replace(\".\", np.nan)\n",
    "\n",
    "df['MP2_SP_Value'] = pd.to_numeric(df['MP2_P2_Value'], errors='coerce')"
   ]
  },
  {
   "cell_type": "code",
   "execution_count": 12,
   "id": "4901c880",
   "metadata": {},
   "outputs": [
    {
     "data": {
      "text/plain": [
       "0       1.7\n",
       "1       1.7\n",
       "2       1.7\n",
       "3       1.7\n",
       "4       1.7\n",
       "       ... \n",
       "1264    1.7\n",
       "1265    1.7\n",
       "1266    1.7\n",
       "1267    1.7\n",
       "1268    1.7\n",
       "Name: MP2_SP_Value, Length: 1269, dtype: float64"
      ]
     },
     "execution_count": 12,
     "metadata": {},
     "output_type": "execute_result"
    }
   ],
   "source": [
    "df['MP2_SP_Value']"
   ]
  },
  {
   "cell_type": "code",
   "execution_count": 13,
   "id": "081ff62e",
   "metadata": {},
   "outputs": [],
   "source": [
    "df[\"MP1_S1_Setting_Tolerance\"] = df['MP2_S2_Setting_Tolerance']"
   ]
  },
  {
   "cell_type": "code",
   "execution_count": 14,
   "id": "64cc5e3f",
   "metadata": {},
   "outputs": [
    {
     "data": {
      "text/plain": [
       "0       0.04\n",
       "1       0.04\n",
       "2       0.04\n",
       "3       0.04\n",
       "4       0.04\n",
       "        ... \n",
       "1264    0.04\n",
       "1265    0.04\n",
       "1266    0.04\n",
       "1267    0.04\n",
       "1268    0.04\n",
       "Name: MP1_S1_Setting_Tolerance, Length: 1269, dtype: float64"
      ]
     },
     "execution_count": 14,
     "metadata": {},
     "output_type": "execute_result"
    }
   ],
   "source": [
    "df[\"MP1_S1_Setting_Tolerance\"]"
   ]
  },
  {
   "cell_type": "code",
   "execution_count": 18,
   "id": "31b25af4",
   "metadata": {},
   "outputs": [],
   "source": [
    "features = df[['PH_PART_NUMBER','MP1_S1_Value','MP1_P1_Value','MP1_S1_Setting_Tolerance','MP2_S2_Value','MP2_P2_Value','MP2_S2_Setting_Tolerance']]"
   ]
  },
  {
   "cell_type": "code",
   "execution_count": 19,
   "id": "606b9fa6",
   "metadata": {},
   "outputs": [
    {
     "data": {
      "text/html": [
       "<div>\n",
       "<style scoped>\n",
       "    .dataframe tbody tr th:only-of-type {\n",
       "        vertical-align: middle;\n",
       "    }\n",
       "\n",
       "    .dataframe tbody tr th {\n",
       "        vertical-align: top;\n",
       "    }\n",
       "\n",
       "    .dataframe thead th {\n",
       "        text-align: right;\n",
       "    }\n",
       "</style>\n",
       "<table border=\"1\" class=\"dataframe\">\n",
       "  <thead>\n",
       "    <tr style=\"text-align: right;\">\n",
       "      <th></th>\n",
       "      <th>PH_PART_NUMBER</th>\n",
       "      <th>MP1_S1_Value</th>\n",
       "      <th>MP1_P1_Value</th>\n",
       "      <th>MP1_S1_Setting_Tolerance</th>\n",
       "      <th>MP2_S2_Value</th>\n",
       "      <th>MP2_P2_Value</th>\n",
       "      <th>MP2_S2_Setting_Tolerance</th>\n",
       "    </tr>\n",
       "  </thead>\n",
       "  <tbody>\n",
       "    <tr>\n",
       "      <th>0</th>\n",
       "      <td>1467134167</td>\n",
       "      <td>0.420</td>\n",
       "      <td>0.300</td>\n",
       "      <td>0.04</td>\n",
       "      <td>0.840</td>\n",
       "      <td>1.70</td>\n",
       "      <td>0.04</td>\n",
       "    </tr>\n",
       "    <tr>\n",
       "      <th>1</th>\n",
       "      <td>1467134945</td>\n",
       "      <td>0.480</td>\n",
       "      <td>0.301</td>\n",
       "      <td>0.04</td>\n",
       "      <td>0.950</td>\n",
       "      <td>1.70</td>\n",
       "      <td>0.04</td>\n",
       "    </tr>\n",
       "    <tr>\n",
       "      <th>2</th>\n",
       "      <td>1467134428</td>\n",
       "      <td>0.520</td>\n",
       "      <td>0.362</td>\n",
       "      <td>0.04</td>\n",
       "      <td>1.030</td>\n",
       "      <td>1.70</td>\n",
       "      <td>0.04</td>\n",
       "    </tr>\n",
       "    <tr>\n",
       "      <th>3</th>\n",
       "      <td>1467134173</td>\n",
       "      <td>0.300</td>\n",
       "      <td>0.300</td>\n",
       "      <td>0.04</td>\n",
       "      <td>0.600</td>\n",
       "      <td>1.70</td>\n",
       "      <td>0.04</td>\n",
       "    </tr>\n",
       "    <tr>\n",
       "      <th>4</th>\n",
       "      <td>1467134565</td>\n",
       "      <td>0.550</td>\n",
       "      <td>0.231</td>\n",
       "      <td>0.04</td>\n",
       "      <td>1.100</td>\n",
       "      <td>1.70</td>\n",
       "      <td>0.04</td>\n",
       "    </tr>\n",
       "    <tr>\n",
       "      <th>...</th>\n",
       "      <td>...</td>\n",
       "      <td>...</td>\n",
       "      <td>...</td>\n",
       "      <td>...</td>\n",
       "      <td>...</td>\n",
       "      <td>...</td>\n",
       "      <td>...</td>\n",
       "    </tr>\n",
       "    <tr>\n",
       "      <th>1264</th>\n",
       "      <td>D460089559</td>\n",
       "      <td>0.629</td>\n",
       "      <td>0.687</td>\n",
       "      <td>0.04</td>\n",
       "      <td>1.258</td>\n",
       "      <td>1.70</td>\n",
       "      <td>0.04</td>\n",
       "    </tr>\n",
       "    <tr>\n",
       "      <th>1265</th>\n",
       "      <td>F002D15483</td>\n",
       "      <td>0.423</td>\n",
       "      <td>0.624</td>\n",
       "      <td>0.04</td>\n",
       "      <td>0.846</td>\n",
       "      <td>1.70</td>\n",
       "      <td>0.04</td>\n",
       "    </tr>\n",
       "    <tr>\n",
       "      <th>1266</th>\n",
       "      <td>F002D15476</td>\n",
       "      <td>1.098</td>\n",
       "      <td>0.426</td>\n",
       "      <td>0.04</td>\n",
       "      <td>2.097</td>\n",
       "      <td>1.70</td>\n",
       "      <td>0.04</td>\n",
       "    </tr>\n",
       "    <tr>\n",
       "      <th>1267</th>\n",
       "      <td>F002D15465</td>\n",
       "      <td>0.684</td>\n",
       "      <td>0.700</td>\n",
       "      <td>0.04</td>\n",
       "      <td>1.370</td>\n",
       "      <td>1.70</td>\n",
       "      <td>0.04</td>\n",
       "    </tr>\n",
       "    <tr>\n",
       "      <th>1268</th>\n",
       "      <td>D460 089 560</td>\n",
       "      <td>0.423</td>\n",
       "      <td>0.624</td>\n",
       "      <td>0.04</td>\n",
       "      <td>0.846</td>\n",
       "      <td>1.70</td>\n",
       "      <td>0.04</td>\n",
       "    </tr>\n",
       "  </tbody>\n",
       "</table>\n",
       "<p>1269 rows × 7 columns</p>\n",
       "</div>"
      ],
      "text/plain": [
       "     PH_PART_NUMBER  MP1_S1_Value  MP1_P1_Value  MP1_S1_Setting_Tolerance  \\\n",
       "0        1467134167         0.420         0.300                      0.04   \n",
       "1        1467134945         0.480         0.301                      0.04   \n",
       "2        1467134428         0.520         0.362                      0.04   \n",
       "3        1467134173         0.300         0.300                      0.04   \n",
       "4        1467134565         0.550         0.231                      0.04   \n",
       "...             ...           ...           ...                       ...   \n",
       "1264     D460089559         0.629         0.687                      0.04   \n",
       "1265     F002D15483         0.423         0.624                      0.04   \n",
       "1266     F002D15476         1.098         0.426                      0.04   \n",
       "1267     F002D15465         0.684         0.700                      0.04   \n",
       "1268   D460 089 560         0.423         0.624                      0.04   \n",
       "\n",
       "      MP2_S2_Value MP2_P2_Value  MP2_S2_Setting_Tolerance  \n",
       "0            0.840         1.70                      0.04  \n",
       "1            0.950         1.70                      0.04  \n",
       "2            1.030         1.70                      0.04  \n",
       "3            0.600         1.70                      0.04  \n",
       "4            1.100         1.70                      0.04  \n",
       "...            ...          ...                       ...  \n",
       "1264         1.258         1.70                      0.04  \n",
       "1265         0.846         1.70                      0.04  \n",
       "1266         2.097         1.70                      0.04  \n",
       "1267         1.370         1.70                      0.04  \n",
       "1268         0.846         1.70                      0.04  \n",
       "\n",
       "[1269 rows x 7 columns]"
      ]
     },
     "execution_count": 19,
     "metadata": {},
     "output_type": "execute_result"
    }
   ],
   "source": [
    "features"
   ]
  },
  {
   "cell_type": "code",
   "execution_count": 1,
   "id": "42e87b9f-5a1a-4872-b999-74bf720c3815",
   "metadata": {},
   "outputs": [],
   "source": [
    "import pandas as pd\n",
    "import numpy as np"
   ]
  },
  {
   "cell_type": "code",
   "execution_count": 3,
   "id": "9e863a97-81c3-4913-9e01-9247d6f273e5",
   "metadata": {},
   "outputs": [],
   "source": [
    "df = pd.read_csv(\"LDA_EPT_data.csv\")"
   ]
  },
  {
   "cell_type": "code",
   "execution_count": 11,
   "id": "73f72783",
   "metadata": {},
   "outputs": [
    {
     "data": {
      "text/html": [
       "<div>\n",
       "<style scoped>\n",
       "    .dataframe tbody tr th:only-of-type {\n",
       "        vertical-align: middle;\n",
       "    }\n",
       "\n",
       "    .dataframe tbody tr th {\n",
       "        vertical-align: top;\n",
       "    }\n",
       "\n",
       "    .dataframe thead th {\n",
       "        text-align: right;\n",
       "    }\n",
       "</style>\n",
       "<table border=\"1\" class=\"dataframe\">\n",
       "  <thead>\n",
       "    <tr style=\"text-align: right;\">\n",
       "      <th></th>\n",
       "      <th>MP1_S1_Value</th>\n",
       "      <th>MP2_S2_Value</th>\n",
       "    </tr>\n",
       "  </thead>\n",
       "  <tbody>\n",
       "    <tr>\n",
       "      <th>1265</th>\n",
       "      <td>0.423</td>\n",
       "      <td>0.846</td>\n",
       "    </tr>\n",
       "  </tbody>\n",
       "</table>\n",
       "</div>"
      ],
      "text/plain": [
       "      MP1_S1_Value  MP2_S2_Value\n",
       "1265         0.423         0.846"
      ]
     },
     "execution_count": 11,
     "metadata": {},
     "output_type": "execute_result"
    }
   ],
   "source": [
    "df[df[\"PH_PART_NUMBER\"].str.replace(\" \",\"\",regex=False).str.strip().str[-4:] == \"5483\"][[\"MP1_S1_Value\",\"MP2_S2_Value\"]]"
   ]
  },
  {
   "cell_type": "code",
   "execution_count": 13,
   "id": "23063db4-b2f9-42cc-b4bd-38696defabab",
   "metadata": {},
   "outputs": [
    {
     "data": {
      "text/html": [
       "<div>\n",
       "<style scoped>\n",
       "    .dataframe tbody tr th:only-of-type {\n",
       "        vertical-align: middle;\n",
       "    }\n",
       "\n",
       "    .dataframe tbody tr th {\n",
       "        vertical-align: top;\n",
       "    }\n",
       "\n",
       "    .dataframe thead th {\n",
       "        text-align: right;\n",
       "    }\n",
       "</style>\n",
       "<table border=\"1\" class=\"dataframe\">\n",
       "  <thead>\n",
       "    <tr style=\"text-align: right;\">\n",
       "      <th></th>\n",
       "      <th>PH_PART_NUMBER</th>\n",
       "      <th>MP1_S1_Value</th>\n",
       "      <th>MP2_S2_Value</th>\n",
       "    </tr>\n",
       "  </thead>\n",
       "  <tbody>\n",
       "    <tr>\n",
       "      <th>1265</th>\n",
       "      <td>F002D15483</td>\n",
       "      <td>0.423</td>\n",
       "      <td>0.846</td>\n",
       "    </tr>\n",
       "  </tbody>\n",
       "</table>\n",
       "</div>"
      ],
      "text/plain": [
       "     PH_PART_NUMBER  MP1_S1_Value  MP2_S2_Value\n",
       "1265     F002D15483         0.423         0.846"
      ]
     },
     "execution_count": 13,
     "metadata": {},
     "output_type": "execute_result"
    }
   ],
   "source": [
    "df[df[\"PH_PART_NUMBER\"].str.replace(\" \", \"\", regex=False).str.strip().str[-4:] == \"5483\"][[\"PH_PART_NUMBER\",\"MP1_S1_Value\", \"MP2_S2_Value\"]]"
   ]
  },
  {
   "cell_type": "code",
   "execution_count": null,
   "id": "dc3a50b6-9e8a-4005-9118-6e4b213e8ad2",
   "metadata": {},
   "outputs": [],
   "source": []
  }
 ],
 "metadata": {
  "kernelspec": {
   "display_name": "Python 3 (ipykernel)",
   "language": "python",
   "name": "python3"
  },
  "language_info": {
   "codemirror_mode": {
    "name": "ipython",
    "version": 3
   },
   "file_extension": ".py",
   "mimetype": "text/x-python",
   "name": "python",
   "nbconvert_exporter": "python",
   "pygments_lexer": "ipython3",
   "version": "3.12.9"
  }
 },
 "nbformat": 4,
 "nbformat_minor": 5
}
